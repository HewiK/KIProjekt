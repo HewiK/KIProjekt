{
 "cells": [
  {
   "cell_type": "code",
   "execution_count": 250,
   "metadata": {},
   "outputs": [
    {
     "data": {
      "text/html": [
       "<div>\n",
       "<style scoped>\n",
       "    .dataframe tbody tr th:only-of-type {\n",
       "        vertical-align: middle;\n",
       "    }\n",
       "\n",
       "    .dataframe tbody tr th {\n",
       "        vertical-align: top;\n",
       "    }\n",
       "\n",
       "    .dataframe thead th {\n",
       "        text-align: right;\n",
       "    }\n",
       "</style>\n",
       "<table border=\"1\" class=\"dataframe\">\n",
       "  <thead>\n",
       "    <tr style=\"text-align: right;\">\n",
       "      <th></th>\n",
       "      <th>calEvents</th>\n",
       "      <th>datumBeginn</th>\n",
       "      <th>datumEnde</th>\n",
       "      <th>desc</th>\n",
       "      <th>gruppenName</th>\n",
       "      <th>name</th>\n",
       "      <th>newEvents</th>\n",
       "      <th>ort</th>\n",
       "      <th>score</th>\n",
       "      <th>speichern</th>\n",
       "      <th>uhrzeitBeginn</th>\n",
       "      <th>uhrzeitEnde</th>\n",
       "      <th>url</th>\n",
       "    </tr>\n",
       "  </thead>\n",
       "  <tbody>\n",
       "    <tr>\n",
       "      <th>945</th>\n",
       "      <td>[]</td>\n",
       "      <td>NaN</td>\n",
       "      <td>NaN</td>\n",
       "      <td>[In Zeiten von Docker, Big Data und Microservi...</td>\n",
       "      <td>NaN</td>\n",
       "      <td></td>\n",
       "      <td>[]</td>\n",
       "      <td></td>\n",
       "      <td>22</td>\n",
       "      <td>True</td>\n",
       "      <td>NaN</td>\n",
       "      <td>NaN</td>\n",
       "      <td>NaN</td>\n",
       "    </tr>\n",
       "    <tr>\n",
       "      <th>946</th>\n",
       "      <td>[]</td>\n",
       "      <td></td>\n",
       "      <td></td>\n",
       "      <td>&lt;p&gt;Inhalt des 20. Info-Treffs&lt;/p&gt; &lt;p&gt;C++ im Em...</td>\n",
       "      <td>C++ User Group Karlsruhe</td>\n",
       "      <td>C++ im Embedded-Medizinger�t � Lohnt der Einsa...</td>\n",
       "      <td>[]</td>\n",
       "      <td>Am Fasanengarten 5, Karlsruhe</td>\n",
       "      <td>23</td>\n",
       "      <td>True</td>\n",
       "      <td></td>\n",
       "      <td></td>\n",
       "      <td>https://www.meetup.com/C-User-Group-Karlsruhe/...</td>\n",
       "    </tr>\n",
       "    <tr>\n",
       "      <th>947</th>\n",
       "      <td>[]</td>\n",
       "      <td>2018-08-16</td>\n",
       "      <td>2018-08-16</td>\n",
       "      <td>&lt;p&gt;Are you longing to hear and talk about that...</td>\n",
       "      <td>karlsruhe.ai</td>\n",
       "      <td>[Casual] Community Conversation about Machine ...</td>\n",
       "      <td>[]</td>\n",
       "      <td>Haid-und-Neu Str. 18, Karlsruhe, Karlsruhe</td>\n",
       "      <td>24</td>\n",
       "      <td>True</td>\n",
       "      <td>19:00</td>\n",
       "      <td>22:00</td>\n",
       "      <td>https://www.meetup.com/karlsruhe-ai/events/253...</td>\n",
       "    </tr>\n",
       "    <tr>\n",
       "      <th>948</th>\n",
       "      <td>[]</td>\n",
       "      <td></td>\n",
       "      <td></td>\n",
       "      <td>&lt;p&gt;Die GDG Karlsruhe l�dt zum August-Meetup!&lt;/...</td>\n",
       "      <td>GDG Karlsruhe</td>\n",
       "      <td>GDG Karlsruhe August-Meetup</td>\n",
       "      <td>[]</td>\n",
       "      <td>Durlacher Allee 93, Karlsruhe</td>\n",
       "      <td>29</td>\n",
       "      <td>True</td>\n",
       "      <td></td>\n",
       "      <td></td>\n",
       "      <td>https://www.meetup.com/GDG-Karlsruhe/events/25...</td>\n",
       "    </tr>\n",
       "    <tr>\n",
       "      <th>949</th>\n",
       "      <td>[]</td>\n",
       "      <td>2018-08-17</td>\n",
       "      <td>2018-08-17</td>\n",
       "      <td>&lt;p&gt;Blockchain is one of the most confusing ter...</td>\n",
       "      <td>Heidelberg Web Development &amp; Ruby Meetup</td>\n",
       "      <td>Instaffo Blockchain-Day: Between Technology an...</td>\n",
       "      <td>[]</td>\n",
       "      <td>R�merstrasse 135, Heidelberg</td>\n",
       "      <td>33</td>\n",
       "      <td>True</td>\n",
       "      <td>17:00</td>\n",
       "      <td>21:00</td>\n",
       "      <td>https://www.meetup.com/Heidelberg-Web-Dev-Ruby...</td>\n",
       "    </tr>\n",
       "  </tbody>\n",
       "</table>\n",
       "</div>"
      ],
      "text/plain": [
       "    calEvents datumBeginn   datumEnde  \\\n",
       "945        []         NaN         NaN   \n",
       "946        []                           \n",
       "947        []  2018-08-16  2018-08-16   \n",
       "948        []                           \n",
       "949        []  2018-08-17  2018-08-17   \n",
       "\n",
       "                                                  desc  \\\n",
       "945  [In Zeiten von Docker, Big Data und Microservi...   \n",
       "946  <p>Inhalt des 20. Info-Treffs</p> <p>C++ im Em...   \n",
       "947  <p>Are you longing to hear and talk about that...   \n",
       "948  <p>Die GDG Karlsruhe l�dt zum August-Meetup!</...   \n",
       "949  <p>Blockchain is one of the most confusing ter...   \n",
       "\n",
       "                                  gruppenName  \\\n",
       "945                                       NaN   \n",
       "946                  C++ User Group Karlsruhe   \n",
       "947                              karlsruhe.ai   \n",
       "948                             GDG Karlsruhe   \n",
       "949  Heidelberg Web Development & Ruby Meetup   \n",
       "\n",
       "                                                  name newEvents  \\\n",
       "945                                                           []   \n",
       "946  C++ im Embedded-Medizinger�t � Lohnt der Einsa...        []   \n",
       "947  [Casual] Community Conversation about Machine ...        []   \n",
       "948                        GDG Karlsruhe August-Meetup        []   \n",
       "949  Instaffo Blockchain-Day: Between Technology an...        []   \n",
       "\n",
       "                                            ort  score  speichern  \\\n",
       "945                                                 22       True   \n",
       "946               Am Fasanengarten 5, Karlsruhe     23       True   \n",
       "947  Haid-und-Neu Str. 18, Karlsruhe, Karlsruhe     24       True   \n",
       "948               Durlacher Allee 93, Karlsruhe     29       True   \n",
       "949                R�merstrasse 135, Heidelberg     33       True   \n",
       "\n",
       "    uhrzeitBeginn uhrzeitEnde  \\\n",
       "945           NaN         NaN   \n",
       "946                             \n",
       "947         19:00       22:00   \n",
       "948                             \n",
       "949         17:00       21:00   \n",
       "\n",
       "                                                   url  \n",
       "945                                                NaN  \n",
       "946  https://www.meetup.com/C-User-Group-Karlsruhe/...  \n",
       "947  https://www.meetup.com/karlsruhe-ai/events/253...  \n",
       "948  https://www.meetup.com/GDG-Karlsruhe/events/25...  \n",
       "949  https://www.meetup.com/Heidelberg-Web-Dev-Ruby...  "
      ]
     },
     "execution_count": 250,
     "metadata": {},
     "output_type": "execute_result"
    }
   ],
   "source": [
    "import pandas as pd\n",
    "import json\n",
    "import seaborn as sns\n",
    "import numpy as np\n",
    "import matplotlib.pyplot as plt\n",
    "from pandas.io.json import json_normalize\n",
    "from sklearn.model_selection import train_test_split\n",
    "from sklearn.model_selection import StratifiedShuffleSplit\n",
    "\n",
    "from sklearn import tree\n",
    "from sklearn.ensemble import BaggingClassifier\n",
    "from sklearn.ensemble import RandomForestClassifier\n",
    "from sklearn.ensemble import ExtraTreesClassifier\n",
    "from sklearn.ensemble import AdaBoostClassifier\n",
    "from sklearn.ensemble import GradientBoostingClassifier\n",
    "\n",
    "from sklearn.feature_extraction.text import TfidfVectorizer\n",
    "from sklearn.metrics import classification_report\n",
    "from sklearn.metrics import confusion_matrix\n",
    "\n",
    "from imblearn.over_sampling import RandomOverSampler\n",
    "from imblearn.over_sampling import SMOTE \n",
    "from imblearn.over_sampling import ADASYN\n",
    "from imblearn.under_sampling import RandomUnderSampler\n",
    "\n",
    "data = pd.read_json('uebungsdatei.json')\n",
    "data.tail()"
   ]
  },
  {
   "cell_type": "code",
   "execution_count": 251,
   "metadata": {},
   "outputs": [
    {
     "data": {
      "text/plain": [
       "False    920\n",
       "True      30\n",
       "Name: speichern, dtype: int64"
      ]
     },
     "execution_count": 251,
     "metadata": {},
     "output_type": "execute_result"
    }
   ],
   "source": [
    "data['speichern'].value_counts()"
   ]
  },
  {
   "cell_type": "markdown",
   "metadata": {},
   "source": [
    "# HTML-Tags in Beschreibung entfernen"
   ]
  },
  {
   "cell_type": "code",
   "execution_count": 252,
   "metadata": {},
   "outputs": [],
   "source": [
    "imp_data = data[['speichern','desc','gruppenName','name','ort']]"
   ]
  },
  {
   "cell_type": "code",
   "execution_count": 253,
   "metadata": {},
   "outputs": [],
   "source": [
    "imp_data_plain = imp_data.copy()\n",
    "imp_data_plain['desc']=imp_data['desc'].apply(lambda x : x.replace('\"',''))\n",
    "imp_data_plain['desc']=imp_data['desc'].apply(lambda x : x.replace('<p>',''))\n",
    "imp_data_plain['desc']=imp_data['desc'].apply(lambda x : x.replace('</p>',''))\n",
    "imp_data_plain['desc']=imp_data['desc'].apply(lambda x : x.replace('<b>',''))\n",
    "imp_data_plain['desc']=imp_data['desc'].apply(lambda x : x.replace('</b>',''))"
   ]
  },
  {
   "cell_type": "code",
   "execution_count": 254,
   "metadata": {},
   "outputs": [
    {
     "data": {
      "text/html": [
       "<div>\n",
       "<style scoped>\n",
       "    .dataframe tbody tr th:only-of-type {\n",
       "        vertical-align: middle;\n",
       "    }\n",
       "\n",
       "    .dataframe tbody tr th {\n",
       "        vertical-align: top;\n",
       "    }\n",
       "\n",
       "    .dataframe thead th {\n",
       "        text-align: right;\n",
       "    }\n",
       "</style>\n",
       "<table border=\"1\" class=\"dataframe\">\n",
       "  <thead>\n",
       "    <tr style=\"text-align: right;\">\n",
       "      <th></th>\n",
       "      <th>speichern</th>\n",
       "      <th>desc</th>\n",
       "      <th>gruppenName</th>\n",
       "      <th>name</th>\n",
       "      <th>ort</th>\n",
       "    </tr>\n",
       "  </thead>\n",
       "  <tbody>\n",
       "    <tr>\n",
       "      <th>0</th>\n",
       "      <td>False</td>\n",
       "      <td>[Technisches Verst�ndnis und Kenntnisse in der...</td>\n",
       "      <td>NaN</td>\n",
       "      <td></td>\n",
       "      <td></td>\n",
       "    </tr>\n",
       "    <tr>\n",
       "      <th>1</th>\n",
       "      <td>False</td>\n",
       "      <td>Kultur im Cyberspace und jugendliche Lebenswel...</td>\n",
       "      <td>NaN</td>\n",
       "      <td></td>\n",
       "      <td></td>\n",
       "    </tr>\n",
       "    <tr>\n",
       "      <th>2</th>\n",
       "      <td>False</td>\n",
       "      <td>[Kommunikation mit Computern ist wundervoll ei...</td>\n",
       "      <td>NaN</td>\n",
       "      <td></td>\n",
       "      <td></td>\n",
       "    </tr>\n",
       "    <tr>\n",
       "      <th>3</th>\n",
       "      <td>False</td>\n",
       "      <td>Talklet (Vortrags- und Diskussionsabend) am Do...</td>\n",
       "      <td>NaN</td>\n",
       "      <td></td>\n",
       "      <td></td>\n",
       "    </tr>\n",
       "    <tr>\n",
       "      <th>4</th>\n",
       "      <td>False</td>\n",
       "      <td>[NOSQL, Big Data und Graphen sind zur Zeit in ...</td>\n",
       "      <td>NaN</td>\n",
       "      <td></td>\n",
       "      <td></td>\n",
       "    </tr>\n",
       "  </tbody>\n",
       "</table>\n",
       "</div>"
      ],
      "text/plain": [
       "   speichern                                               desc gruppenName  \\\n",
       "0      False  [Technisches Verst�ndnis und Kenntnisse in der...         NaN   \n",
       "1      False  Kultur im Cyberspace und jugendliche Lebenswel...         NaN   \n",
       "2      False  [Kommunikation mit Computern ist wundervoll ei...         NaN   \n",
       "3      False  Talklet (Vortrags- und Diskussionsabend) am Do...         NaN   \n",
       "4      False  [NOSQL, Big Data und Graphen sind zur Zeit in ...         NaN   \n",
       "\n",
       "  name ort  \n",
       "0           \n",
       "1           \n",
       "2           \n",
       "3           \n",
       "4           "
      ]
     },
     "execution_count": 254,
     "metadata": {},
     "output_type": "execute_result"
    }
   ],
   "source": [
    "imp_data_plain.head()"
   ]
  },
  {
   "cell_type": "markdown",
   "metadata": {},
   "source": [
    "# Datenset splitten"
   ]
  },
  {
   "cell_type": "code",
   "execution_count": 255,
   "metadata": {},
   "outputs": [],
   "source": [
    "X_all = imp_data_plain.drop('speichern', axis=1)\n",
    "Y_all = imp_data_plain[\"speichern\"]\n",
    "\n",
    "sss = StratifiedShuffleSplit(n_splits=1, test_size=0.2)\n",
    "\n",
    "for train_index, test_index in sss.split(X_all, Y_all):\n",
    "    X_train, X_test = X_all.iloc[train_index], X_all.iloc[test_index]\n",
    "    Y_train, Y_test = Y_all.iloc[train_index], Y_all.iloc[test_index]"
   ]
  },
  {
   "cell_type": "markdown",
   "metadata": {},
   "source": [
    "# Beschreibungen vectorisieren und Vokabular anlegen"
   ]
  },
  {
   "cell_type": "code",
   "execution_count": 256,
   "metadata": {},
   "outputs": [],
   "source": [
    "X_train_string = \"\"\n",
    "for x in range(0, imp_data_plain.shape[0]):\n",
    "    X_train_string = X_train_string + imp_data_plain.iloc[x]['desc']\n",
    "\n",
    "X_train_strings = X_train_string.split(\" \")\n",
    "cv = TfidfVectorizer( min_df = 0.00015 ,max_df = 0.0002)\n",
    "cv.fit(X_train_strings)\n",
    "X_train_cv = cv.transform(X_train['desc']).toarray()"
   ]
  },
  {
   "cell_type": "code",
   "execution_count": 257,
   "metadata": {
    "scrolled": false
   },
   "outputs": [
    {
     "data": {
      "text/plain": [
       "87220"
      ]
     },
     "execution_count": 257,
     "metadata": {},
     "output_type": "execute_result"
    }
   ],
   "source": [
    "len(X_train_strings)"
   ]
  },
  {
   "cell_type": "code",
   "execution_count": 258,
   "metadata": {},
   "outputs": [
    {
     "data": {
      "text/plain": [
       "221"
      ]
     },
     "execution_count": 258,
     "metadata": {},
     "output_type": "execute_result"
    }
   ],
   "source": [
    "len(cv.get_feature_names())"
   ]
  },
  {
   "cell_type": "code",
   "execution_count": 259,
   "metadata": {},
   "outputs": [
    {
     "data": {
      "text/plain": [
       "['07',\n",
       " '22',\n",
       " '25',\n",
       " '26',\n",
       " '67',\n",
       " 'abh',\n",
       " 'ajax',\n",
       " 'aktiv',\n",
       " 'aktuelle',\n",
       " 'allen',\n",
       " 'aller',\n",
       " 'alltag',\n",
       " 'alternativen',\n",
       " 'anderem',\n",
       " 'andreas',\n",
       " 'anf',\n",
       " 'another',\n",
       " 'ans',\n",
       " 'app',\n",
       " 'apps',\n",
       " 'arbeit',\n",
       " 'arbeiten',\n",
       " 'around',\n",
       " 'art',\n",
       " 'artmasters',\n",
       " 'aspekte',\n",
       " 'atmosph',\n",
       " 'ausf',\n",
       " 'based',\n",
       " 'bauen',\n",
       " 'bedeutung',\n",
       " 'before',\n",
       " 'begr',\n",
       " 'beispiele',\n",
       " 'berater',\n",
       " 'bernd',\n",
       " 'besonders',\n",
       " 'besteht',\n",
       " 'bibliotheken',\n",
       " 'bringt',\n",
       " 'buch',\n",
       " 'camel',\n",
       " 'camunda',\n",
       " 'caption',\n",
       " 'ce',\n",
       " 'chaos',\n",
       " 'cher',\n",
       " 'chlich',\n",
       " 'ck',\n",
       " 'codecentric',\n",
       " 'come',\n",
       " 'computing',\n",
       " 'container',\n",
       " 'content',\n",
       " 'daf',\n",
       " 'daraus',\n",
       " 'deine',\n",
       " 'demos',\n",
       " 'derzeit',\n",
       " 'dessen',\n",
       " 'dinge',\n",
       " 'diskutiert',\n",
       " 'docker',\n",
       " 'don',\n",
       " 'drinks',\n",
       " 'dt',\n",
       " 'each',\n",
       " 'eco',\n",
       " 'einblick',\n",
       " 'eingegangen',\n",
       " 'einigen',\n",
       " 'einmal',\n",
       " 'engine',\n",
       " 'erdem',\n",
       " 'erl',\n",
       " 'erstellung',\n",
       " 'exchange',\n",
       " 'experience',\n",
       " 'fast',\n",
       " 'februar',\n",
       " 'fokus',\n",
       " 'foundation',\n",
       " 'fraunhofer',\n",
       " 'freiberuflicher',\n",
       " 'funktionale',\n",
       " 'gartenstra',\n",
       " 'genau',\n",
       " 'gerd',\n",
       " 'germany',\n",
       " 'gespr',\n",
       " 'github',\n",
       " 'give',\n",
       " 'good',\n",
       " 'gradle',\n",
       " 'grails',\n",
       " 'grund',\n",
       " 'grundlagen',\n",
       " 'gruppe',\n",
       " 'gute',\n",
       " 'h2',\n",
       " 'halten',\n",
       " 'hd',\n",
       " 'heilbronn',\n",
       " 'herausforderungen',\n",
       " 'higkeit',\n",
       " 'hlen',\n",
       " 'hlt',\n",
       " 'html5',\n",
       " 'ide',\n",
       " 'iese',\n",
       " 'ihm',\n",
       " 'ihren',\n",
       " 'important',\n",
       " 'industrie',\n",
       " 'information',\n",
       " 'innerhalb',\n",
       " 'ins',\n",
       " 'institut',\n",
       " 'interessiert',\n",
       " 'ios',\n",
       " 'ira',\n",
       " 'jahr',\n",
       " 'jochen',\n",
       " 'karaf',\n",
       " 'kommunikation',\n",
       " 'kostenlos',\n",
       " 'kurzen',\n",
       " 'large',\n",
       " 'learn',\n",
       " 'leben',\n",
       " 'leicht',\n",
       " 'leiter',\n",
       " 'ller',\n",
       " 'lockerer',\n",
       " 'lombok',\n",
       " 'lust',\n",
       " 'maps',\n",
       " 'meine',\n",
       " 'meist',\n",
       " 'member',\n",
       " 'memory',\n",
       " 'mittelpunkt',\n",
       " 'mittlerweile',\n",
       " 'mittwoch',\n",
       " 'model',\n",
       " 'my',\n",
       " 'nderungen',\n",
       " 'ne',\n",
       " 'neckarau',\n",
       " 'need',\n",
       " 'nice',\n",
       " 'note',\n",
       " 'olivergierke',\n",
       " 'online',\n",
       " 'only',\n",
       " 'organisiert',\n",
       " 'par',\n",
       " 'participation',\n",
       " 'patterns',\n",
       " 'pers',\n",
       " 'pivotal',\n",
       " 'pl',\n",
       " 'principal',\n",
       " 'processing',\n",
       " 'produkte',\n",
       " 'programm',\n",
       " 'programmieren',\n",
       " 'projektleiter',\n",
       " 'qui',\n",
       " 'region',\n",
       " 'release',\n",
       " 'retest',\n",
       " 'rich',\n",
       " 'rsaal',\n",
       " 'rt',\n",
       " 'schreiben',\n",
       " 'schritt',\n",
       " 'search',\n",
       " 'see',\n",
       " 'sehen',\n",
       " 'sentation',\n",
       " 'soccarena',\n",
       " 'solutions',\n",
       " 'speaker',\n",
       " 'sst',\n",
       " 'standard',\n",
       " 'str',\n",
       " 'such',\n",
       " 'sun',\n",
       " 'take',\n",
       " 'then',\n",
       " 'tigen',\n",
       " 'tobias',\n",
       " 'topics',\n",
       " 'transformation',\n",
       " 'tun',\n",
       " 'tzlich',\n",
       " 'tzliche',\n",
       " 'unit',\n",
       " 'unseren',\n",
       " 'using',\n",
       " 'va2015',\n",
       " 'va2017',\n",
       " 'verantwortlich',\n",
       " 'verteilten',\n",
       " 'verwendung',\n",
       " 'via',\n",
       " 'vorkenntnisse',\n",
       " 'vorstands',\n",
       " 'vorteile',\n",
       " 'want',\n",
       " 'weather',\n",
       " 'weiterhin',\n",
       " 'well',\n",
       " 'werkzeuge',\n",
       " 'wichtigsten',\n",
       " 'years',\n",
       " 'zahlreichen',\n",
       " 'ziel',\n",
       " 'zus',\n",
       " 'zweiten']"
      ]
     },
     "execution_count": 259,
     "metadata": {},
     "output_type": "execute_result"
    }
   ],
   "source": [
    "cv.get_feature_names()"
   ]
  },
  {
   "cell_type": "code",
   "execution_count": 260,
   "metadata": {},
   "outputs": [],
   "source": [
    "Y_train = Y_train.astype('int')"
   ]
  },
  {
   "cell_type": "code",
   "execution_count": 261,
   "metadata": {},
   "outputs": [],
   "source": [
    "Y_test = Y_test.astype('int')"
   ]
  },
  {
   "cell_type": "code",
   "execution_count": 262,
   "metadata": {},
   "outputs": [],
   "source": [
    "X_test_cv = cv.transform(X_test['desc'])"
   ]
  },
  {
   "cell_type": "code",
   "execution_count": 263,
   "metadata": {},
   "outputs": [],
   "source": [
    "def myEvaluation(y_pred):\n",
    "    print(classification_report(Y_test, y_pred, digits=4))\n",
    "    sns.heatmap(confusion_matrix(Y_test, y_pred), square=True, annot=True)\n",
    "    plt.show()"
   ]
  },
  {
   "cell_type": "markdown",
   "metadata": {},
   "source": [
    "# DecisionTree"
   ]
  },
  {
   "cell_type": "code",
   "execution_count": 264,
   "metadata": {},
   "outputs": [
    {
     "name": "stdout",
     "output_type": "stream",
     "text": [
      "             precision    recall  f1-score   support\n",
      "\n",
      "          0     0.9681    0.9891    0.9785       184\n",
      "          1     0.0000    0.0000    0.0000         6\n",
      "\n",
      "avg / total     0.9375    0.9579    0.9476       190\n",
      "\n"
     ]
    },
    {
     "data": {
      "image/png": "[encoded data removed]",
      "text/plain": [
       "<Figure size 432x288 with 2 Axes>"
      ]
     },
     "metadata": {},
     "output_type": "display_data"
    }
   ],
   "source": [
    "clf_tree = tree.DecisionTreeClassifier()\n",
    "clf_tree.fit(X_train_cv, Y_train)\n",
    "y_pred_tree = clf_tree.predict(X_test_cv)\n",
    "myEvaluation(y_pred_tree)"
   ]
  },
  {
   "cell_type": "markdown",
   "metadata": {},
   "source": [
    "# DecisionTree + ROS"
   ]
  },
  {
   "cell_type": "code",
   "execution_count": 265,
   "metadata": {},
   "outputs": [
    {
     "name": "stdout",
     "output_type": "stream",
     "text": [
      "             precision    recall  f1-score   support\n",
      "\n",
      "          0     0.9672    0.9620    0.9646       184\n",
      "          1     0.0000    0.0000    0.0000         6\n",
      "\n",
      "avg / total     0.9367    0.9316    0.9341       190\n",
      "\n"
     ]
    },
    {
     "data": {
      "image/png": "[encoded data removed]",
      "text/plain": [
       "<Figure size 432x288 with 2 Axes>"
      ]
     },
     "metadata": {},
     "output_type": "display_data"
    }
   ],
   "source": [
    "ros = RandomOverSampler()\n",
    "X_ros_res, y_ros_res = ros.fit_sample(X_train_cv, Y_train)\n",
    "clf_tree = tree.DecisionTreeClassifier()\n",
    "clf_tree.fit(X_ros_res, y_ros_res)\n",
    "y_pred_tree = clf_tree.predict(X_test_cv)\n",
    "myEvaluation(y_pred_tree)"
   ]
  },
  {
   "cell_type": "markdown",
   "metadata": {},
   "source": [
    "# DecisionTree + SMOTE"
   ]
  },
  {
   "cell_type": "code",
   "execution_count": 266,
   "metadata": {},
   "outputs": [
    {
     "name": "stdout",
     "output_type": "stream",
     "text": [
      "             precision    recall  f1-score   support\n",
      "\n",
      "          0     0.9724    0.9565    0.9644       184\n",
      "          1     0.1111    0.1667    0.1333         6\n",
      "\n",
      "avg / total     0.9452    0.9316    0.9381       190\n",
      "\n"
     ]
    },
    {
     "data": {
      "image/png": "[encoded data removed]",
      "text/plain": [
       "<Figure size 432x288 with 2 Axes>"
      ]
     },
     "metadata": {},
     "output_type": "display_data"
    }
   ],
   "source": [
    "s = SMOTE()\n",
    "X_s_res, y_s_res = s.fit_sample(X_train_cv, Y_train)\n",
    "clf_tree = tree.DecisionTreeClassifier()\n",
    "clf_tree.fit(X_s_res, y_s_res)\n",
    "y_pred_tree = clf_tree.predict(X_test_cv)\n",
    "myEvaluation(y_pred_tree)"
   ]
  },
  {
   "cell_type": "markdown",
   "metadata": {},
   "source": [
    "# Decisiontree + ADASYN"
   ]
  },
  {
   "cell_type": "code",
   "execution_count": 267,
   "metadata": {},
   "outputs": [
    {
     "name": "stdout",
     "output_type": "stream",
     "text": [
      "             precision    recall  f1-score   support\n",
      "\n",
      "          0     0.9724    0.9565    0.9644       184\n",
      "          1     0.1111    0.1667    0.1333         6\n",
      "\n",
      "avg / total     0.9452    0.9316    0.9381       190\n",
      "\n"
     ]
    },
    {
     "data": {
      "image/png": "[encoded data removed]",
      "text/plain": [
       "<Figure size 432x288 with 2 Axes>"
      ]
     },
     "metadata": {},
     "output_type": "display_data"
    }
   ],
   "source": [
    "ada = ADASYN()\n",
    "X_ada_res, y_ada_res = ada.fit_sample(X_train_cv, Y_train)\n",
    "clf_tree = tree.DecisionTreeClassifier()\n",
    "clf_tree.fit(X_ada_res, y_ada_res)\n",
    "y_pred_tree = clf_tree.predict(X_test_cv)\n",
    "myEvaluation(y_pred_tree)"
   ]
  },
  {
   "cell_type": "markdown",
   "metadata": {},
   "source": [
    "# DecisionTree + RandomUnderSampler"
   ]
  },
  {
   "cell_type": "code",
   "execution_count": 268,
   "metadata": {},
   "outputs": [
    {
     "name": "stdout",
     "output_type": "stream",
     "text": [
      "             precision    recall  f1-score   support\n",
      "\n",
      "          0     0.9716    0.9293    0.9500       184\n",
      "          1     0.0714    0.1667    0.1000         6\n",
      "\n",
      "avg / total     0.9432    0.9053    0.9232       190\n",
      "\n"
     ]
    },
    {
     "data": {
      "image/png": "[encoded data removed]",
      "text/plain": [
       "<Figure size 432x288 with 2 Axes>"
      ]
     },
     "metadata": {},
     "output_type": "display_data"
    }
   ],
   "source": [
    "rus = RandomUnderSampler()\n",
    "X_rus_res, y_rus_res = rus.fit_sample(X_train_cv, Y_train)\n",
    "clf_tree = tree.DecisionTreeClassifier()\n",
    "clf_tree.fit(X_rus_res, y_rus_res)\n",
    "y_pred_tree = clf_tree.predict(X_test_cv)\n",
    "myEvaluation(y_pred_tree)"
   ]
  },
  {
   "cell_type": "markdown",
   "metadata": {},
   "source": [
    "# RandomForestTree"
   ]
  },
  {
   "cell_type": "code",
   "execution_count": 269,
   "metadata": {},
   "outputs": [
    {
     "name": "stderr",
     "output_type": "stream",
     "text": [
      "/opt/conda/lib/python3.6/site-packages/sklearn/metrics/classification.py:1135: UndefinedMetricWarning: Precision and F-score are ill-defined and being set to 0.0 in labels with no predicted samples.\n",
      "  'precision', 'predicted', average, warn_for)\n"
     ]
    },
    {
     "name": "stdout",
     "output_type": "stream",
     "text": [
      "             precision    recall  f1-score   support\n",
      "\n",
      "          0     0.9684    1.0000    0.9840       184\n",
      "          1     0.0000    0.0000    0.0000         6\n",
      "\n",
      "avg / total     0.9378    0.9684    0.9529       190\n",
      "\n"
     ]
    },
    {
     "data": {
      "image/png": "[encoded data removed]",
      "text/plain": [
       "<Figure size 432x288 with 2 Axes>"
      ]
     },
     "metadata": {},
     "output_type": "display_data"
    }
   ],
   "source": [
    "clf_rdm_tree = RandomForestClassifier(n_estimators=75, max_depth=30)\n",
    "clf_rdm_tree.fit(X_train_cv, Y_train)\n",
    "y_pred_rdmForest = clf_rdm_tree.predict(X_test_cv)\n",
    "myEvaluation(y_pred_rdmForest)"
   ]
  },
  {
   "cell_type": "markdown",
   "metadata": {},
   "source": [
    "# AdaBoostTree"
   ]
  },
  {
   "cell_type": "code",
   "execution_count": 270,
   "metadata": {},
   "outputs": [
    {
     "name": "stdout",
     "output_type": "stream",
     "text": [
      "             precision    recall  f1-score   support\n",
      "\n",
      "          0     0.9683    0.9946    0.9812       184\n",
      "          1     0.0000    0.0000    0.0000         6\n",
      "\n",
      "avg / total     0.9377    0.9632    0.9502       190\n",
      "\n"
     ]
    },
    {
     "data": {
      "image/png": "[encoded data removed]",
      "text/plain": [
       "<Figure size 432x288 with 2 Axes>"
      ]
     },
     "metadata": {},
     "output_type": "display_data"
    }
   ],
   "source": [
    "clf_adaBoost_tree = AdaBoostClassifier(tree.DecisionTreeClassifier(max_depth=25),\n",
    "                         algorithm=\"SAMME\",\n",
    "                         n_estimators=75)\n",
    "\n",
    "clf_adaBoost_tree.fit(X_train_cv, Y_train)\n",
    "y_pred_adaBoost = clf_adaBoost_tree.predict(X_test_cv)\n",
    "myEvaluation(y_pred_adaBoost)"
   ]
  },
  {
   "cell_type": "markdown",
   "metadata": {},
   "source": [
    "# GradientBoostingTree"
   ]
  },
  {
   "cell_type": "code",
   "execution_count": 271,
   "metadata": {},
   "outputs": [
    {
     "name": "stdout",
     "output_type": "stream",
     "text": [
      "             precision    recall  f1-score   support\n",
      "\n",
      "          0     0.9681    0.9891    0.9785       184\n",
      "          1     0.0000    0.0000    0.0000         6\n",
      "\n",
      "avg / total     0.9375    0.9579    0.9476       190\n",
      "\n"
     ]
    },
    {
     "data": {
      "image/png": "[encoded data removed]",
      "text/plain": [
       "<Figure size 432x288 with 2 Axes>"
      ]
     },
     "metadata": {},
     "output_type": "display_data"
    }
   ],
   "source": [
    "clf_gradBoost_tree = GradientBoostingClassifier(n_estimators=75, learning_rate=0.1, max_depth=50)\n",
    "clf_gradBoost_tree.fit(X_train_cv, Y_train)\n",
    "y_pred_gradBoost = clf_gradBoost_tree.predict(X_test_cv)\n",
    "myEvaluation(y_pred_gradBoost)"
   ]
  },
  {
   "cell_type": "markdown",
   "metadata": {},
   "source": [
    "# GradientBoostingTree + RUS"
   ]
  },
  {
   "cell_type": "code",
   "execution_count": 272,
   "metadata": {},
   "outputs": [
    {
     "name": "stdout",
     "output_type": "stream",
     "text": [
      "             precision    recall  f1-score   support\n",
      "\n",
      "          0     0.9756    0.8696    0.9195       184\n",
      "          1     0.0769    0.3333    0.1250         6\n",
      "\n",
      "avg / total     0.9472    0.8526    0.8944       190\n",
      "\n"
     ]
    },
    {
     "data": {
      "image/png": "[encoded data removed]",
      "text/plain": [
       "<Figure size 432x288 with 2 Axes>"
      ]
     },
     "metadata": {},
     "output_type": "display_data"
    }
   ],
   "source": [
    "rus = RandomUnderSampler()\n",
    "X_rus_res, y_rus_res = rus.fit_sample(X_train_cv, Y_train)\n",
    "clf_gradBoost_tree = GradientBoostingClassifier(n_estimators=75, learning_rate=0.1, max_depth=30)\n",
    "clf_gradBoost_tree.fit(X_rus_res, y_rus_res)\n",
    "y_pred_gradBoost = clf_gradBoost_tree.predict(X_test_cv)\n",
    "myEvaluation(y_pred_gradBoost)"
   ]
  },
  {
   "cell_type": "code",
   "execution_count": null,
   "metadata": {},
   "outputs": [],
   "source": []
  },
  {
   "cell_type": "code",
   "execution_count": null,
   "metadata": {},
   "outputs": [],
   "source": []
  },
  {
   "cell_type": "code",
   "execution_count": null,
   "metadata": {},
   "outputs": [],
   "source": []
  }
 ],
 "metadata": {
  "kernelspec": {
   "display_name": "Python 3",
   "language": "python",
   "name": "python3"
  },
  "language_info": {
   "codemirror_mode": {
    "name": "ipython",
    "version": 3
   },
   "file_extension": ".py",
   "mimetype": "text/x-python",
   "name": "python",
   "nbconvert_exporter": "python",
   "pygments_lexer": "ipython3",
   "version": "3.6.6"
  }
 },
 "nbformat": 4,
 "nbformat_minor": 2
}
