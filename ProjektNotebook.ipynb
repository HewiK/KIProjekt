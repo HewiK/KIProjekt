{
 "cells": [
  {
   "cell_type": "code",
   "execution_count": 804,
   "metadata": {},
   "outputs": [
    {
     "data": {
      "text/html": [
       "<div>\n",
       "<style scoped>\n",
       "    .dataframe tbody tr th:only-of-type {\n",
       "        vertical-align: middle;\n",
       "    }\n",
       "\n",
       "    .dataframe tbody tr th {\n",
       "        vertical-align: top;\n",
       "    }\n",
       "\n",
       "    .dataframe thead th {\n",
       "        text-align: right;\n",
       "    }\n",
       "</style>\n",
       "<table border=\"1\" class=\"dataframe\">\n",
       "  <thead>\n",
       "    <tr style=\"text-align: right;\">\n",
       "      <th></th>\n",
       "      <th>calEvents</th>\n",
       "      <th>datumBeginn</th>\n",
       "      <th>datumEnde</th>\n",
       "      <th>desc</th>\n",
       "      <th>gruppenName</th>\n",
       "      <th>name</th>\n",
       "      <th>newEvents</th>\n",
       "      <th>ort</th>\n",
       "      <th>score</th>\n",
       "      <th>speichern</th>\n",
       "      <th>uhrzeitBeginn</th>\n",
       "      <th>uhrzeitEnde</th>\n",
       "      <th>url</th>\n",
       "    </tr>\n",
       "  </thead>\n",
       "  <tbody>\n",
       "    <tr>\n",
       "      <th>945</th>\n",
       "      <td>[]</td>\n",
       "      <td>NaN</td>\n",
       "      <td>NaN</td>\n",
       "      <td>[In Zeiten von Docker, Big Data und Microservi...</td>\n",
       "      <td>NaN</td>\n",
       "      <td></td>\n",
       "      <td>[]</td>\n",
       "      <td></td>\n",
       "      <td>22</td>\n",
       "      <td>True</td>\n",
       "      <td>NaN</td>\n",
       "      <td>NaN</td>\n",
       "      <td>NaN</td>\n",
       "    </tr>\n",
       "    <tr>\n",
       "      <th>946</th>\n",
       "      <td>[]</td>\n",
       "      <td></td>\n",
       "      <td></td>\n",
       "      <td>&lt;p&gt;Inhalt des 20. Info-Treffs&lt;/p&gt; &lt;p&gt;C++ im Em...</td>\n",
       "      <td>C++ User Group Karlsruhe</td>\n",
       "      <td>C++ im Embedded-Medizinger�t � Lohnt der Einsa...</td>\n",
       "      <td>[]</td>\n",
       "      <td>Am Fasanengarten 5, Karlsruhe</td>\n",
       "      <td>23</td>\n",
       "      <td>True</td>\n",
       "      <td></td>\n",
       "      <td></td>\n",
       "      <td>https://www.meetup.com/C-User-Group-Karlsruhe/...</td>\n",
       "    </tr>\n",
       "    <tr>\n",
       "      <th>947</th>\n",
       "      <td>[]</td>\n",
       "      <td>2018-08-16</td>\n",
       "      <td>2018-08-16</td>\n",
       "      <td>&lt;p&gt;Are you longing to hear and talk about that...</td>\n",
       "      <td>karlsruhe.ai</td>\n",
       "      <td>[Casual] Community Conversation about Machine ...</td>\n",
       "      <td>[]</td>\n",
       "      <td>Haid-und-Neu Str. 18, Karlsruhe, Karlsruhe</td>\n",
       "      <td>24</td>\n",
       "      <td>True</td>\n",
       "      <td>19:00</td>\n",
       "      <td>22:00</td>\n",
       "      <td>https://www.meetup.com/karlsruhe-ai/events/253...</td>\n",
       "    </tr>\n",
       "    <tr>\n",
       "      <th>948</th>\n",
       "      <td>[]</td>\n",
       "      <td></td>\n",
       "      <td></td>\n",
       "      <td>&lt;p&gt;Die GDG Karlsruhe l�dt zum August-Meetup!&lt;/...</td>\n",
       "      <td>GDG Karlsruhe</td>\n",
       "      <td>GDG Karlsruhe August-Meetup</td>\n",
       "      <td>[]</td>\n",
       "      <td>Durlacher Allee 93, Karlsruhe</td>\n",
       "      <td>29</td>\n",
       "      <td>True</td>\n",
       "      <td></td>\n",
       "      <td></td>\n",
       "      <td>https://www.meetup.com/GDG-Karlsruhe/events/25...</td>\n",
       "    </tr>\n",
       "    <tr>\n",
       "      <th>949</th>\n",
       "      <td>[]</td>\n",
       "      <td>2018-08-17</td>\n",
       "      <td>2018-08-17</td>\n",
       "      <td>&lt;p&gt;Blockchain is one of the most confusing ter...</td>\n",
       "      <td>Heidelberg Web Development &amp; Ruby Meetup</td>\n",
       "      <td>Instaffo Blockchain-Day: Between Technology an...</td>\n",
       "      <td>[]</td>\n",
       "      <td>R�merstrasse 135, Heidelberg</td>\n",
       "      <td>33</td>\n",
       "      <td>True</td>\n",
       "      <td>17:00</td>\n",
       "      <td>21:00</td>\n",
       "      <td>https://www.meetup.com/Heidelberg-Web-Dev-Ruby...</td>\n",
       "    </tr>\n",
       "  </tbody>\n",
       "</table>\n",
       "</div>"
      ],
      "text/plain": [
       "    calEvents datumBeginn   datumEnde  \\\n",
       "945        []         NaN         NaN   \n",
       "946        []                           \n",
       "947        []  2018-08-16  2018-08-16   \n",
       "948        []                           \n",
       "949        []  2018-08-17  2018-08-17   \n",
       "\n",
       "                                                  desc  \\\n",
       "945  [In Zeiten von Docker, Big Data und Microservi...   \n",
       "946  <p>Inhalt des 20. Info-Treffs</p> <p>C++ im Em...   \n",
       "947  <p>Are you longing to hear and talk about that...   \n",
       "948  <p>Die GDG Karlsruhe l�dt zum August-Meetup!</...   \n",
       "949  <p>Blockchain is one of the most confusing ter...   \n",
       "\n",
       "                                  gruppenName  \\\n",
       "945                                       NaN   \n",
       "946                  C++ User Group Karlsruhe   \n",
       "947                              karlsruhe.ai   \n",
       "948                             GDG Karlsruhe   \n",
       "949  Heidelberg Web Development & Ruby Meetup   \n",
       "\n",
       "                                                  name newEvents  \\\n",
       "945                                                           []   \n",
       "946  C++ im Embedded-Medizinger�t � Lohnt der Einsa...        []   \n",
       "947  [Casual] Community Conversation about Machine ...        []   \n",
       "948                        GDG Karlsruhe August-Meetup        []   \n",
       "949  Instaffo Blockchain-Day: Between Technology an...        []   \n",
       "\n",
       "                                            ort  score  speichern  \\\n",
       "945                                                 22       True   \n",
       "946               Am Fasanengarten 5, Karlsruhe     23       True   \n",
       "947  Haid-und-Neu Str. 18, Karlsruhe, Karlsruhe     24       True   \n",
       "948               Durlacher Allee 93, Karlsruhe     29       True   \n",
       "949                R�merstrasse 135, Heidelberg     33       True   \n",
       "\n",
       "    uhrzeitBeginn uhrzeitEnde  \\\n",
       "945           NaN         NaN   \n",
       "946                             \n",
       "947         19:00       22:00   \n",
       "948                             \n",
       "949         17:00       21:00   \n",
       "\n",
       "                                                   url  \n",
       "945                                                NaN  \n",
       "946  https://www.meetup.com/C-User-Group-Karlsruhe/...  \n",
       "947  https://www.meetup.com/karlsruhe-ai/events/253...  \n",
       "948  https://www.meetup.com/GDG-Karlsruhe/events/25...  \n",
       "949  https://www.meetup.com/Heidelberg-Web-Dev-Ruby...  "
      ]
     },
     "execution_count": 804,
     "metadata": {},
     "output_type": "execute_result"
    }
   ],
   "source": [
    "import pandas as pd\n",
    "import json\n",
    "import seaborn as sns\n",
    "import numpy as np\n",
    "import matplotlib.pyplot as plt\n",
    "from pandas.io.json import json_normalize\n",
    "from sklearn.model_selection import train_test_split\n",
    "from sklearn.model_selection import StratifiedShuffleSplit\n",
    "\n",
    "from sklearn import tree\n",
    "from sklearn.ensemble import BaggingClassifier\n",
    "from sklearn.ensemble import RandomForestClassifier\n",
    "from sklearn.ensemble import ExtraTreesClassifier\n",
    "from sklearn.ensemble import AdaBoostClassifier\n",
    "from sklearn.ensemble import GradientBoostingClassifier\n",
    "\n",
    "from sklearn.feature_extraction.text import TfidfVectorizer\n",
    "from sklearn.metrics import classification_report\n",
    "from sklearn.metrics import confusion_matrix\n",
    "\n",
    "from imblearn.over_sampling import RandomOverSampler\n",
    "from imblearn.over_sampling import SMOTE \n",
    "from imblearn.over_sampling import ADASYN\n",
    "from imblearn.under_sampling import RandomUnderSampler\n",
    "\n",
    "data = pd.read_json('uebungsdatei.json')\n",
    "data.tail()"
   ]
  },
  {
   "cell_type": "code",
   "execution_count": 805,
   "metadata": {},
   "outputs": [
    {
     "data": {
      "text/plain": [
       "False    920\n",
       "True      30\n",
       "Name: speichern, dtype: int64"
      ]
     },
     "execution_count": 805,
     "metadata": {},
     "output_type": "execute_result"
    }
   ],
   "source": [
    "data['speichern'].value_counts()"
   ]
  },
  {
   "cell_type": "markdown",
   "metadata": {},
   "source": [
    "# HTML-Tags in Beschreibung entfernen"
   ]
  },
  {
   "cell_type": "code",
   "execution_count": 806,
   "metadata": {},
   "outputs": [],
   "source": [
    "imp_data = data[['speichern','desc','gruppenName','name','ort']]"
   ]
  },
  {
   "cell_type": "code",
   "execution_count": 807,
   "metadata": {},
   "outputs": [],
   "source": [
    "imp_data_plain = imp_data.copy()\n",
    "imp_data_plain['desc']=imp_data['desc'].apply(lambda x : x.replace('\"',''))\n",
    "imp_data_plain['desc']=imp_data_plain.copy()['desc'].apply(lambda x : x.replace('<p>',''))\n",
    "imp_data_plain['desc']=imp_data_plain.copy()['desc'].apply(lambda x : x.replace('</p>',''))\n",
    "imp_data_plain['desc']=imp_data_plain.copy()['desc'].apply(lambda x : x.replace('<b>',''))\n",
    "imp_data_plain['desc']=imp_data_plain.copy()['desc'].apply(lambda x : x.replace('</b>',''))\n",
    "imp_data_plain['desc']=imp_data_plain.copy()['desc'].apply(lambda x : x.replace('\\\\n',''))\n",
    "imp_data_plain['desc']=imp_data_plain.copy()['desc'].apply(lambda x : x.replace('\\\\>',''))\n",
    "imp_data_plain['desc']=imp_data_plain.copy()['desc'].apply(lambda x : x.replace('/>',''))"
   ]
  },
  {
   "cell_type": "code",
   "execution_count": 808,
   "metadata": {},
   "outputs": [
    {
     "data": {
      "text/html": [
       "<div>\n",
       "<style scoped>\n",
       "    .dataframe tbody tr th:only-of-type {\n",
       "        vertical-align: middle;\n",
       "    }\n",
       "\n",
       "    .dataframe tbody tr th {\n",
       "        vertical-align: top;\n",
       "    }\n",
       "\n",
       "    .dataframe thead th {\n",
       "        text-align: right;\n",
       "    }\n",
       "</style>\n",
       "<table border=\"1\" class=\"dataframe\">\n",
       "  <thead>\n",
       "    <tr style=\"text-align: right;\">\n",
       "      <th></th>\n",
       "      <th>speichern</th>\n",
       "      <th>desc</th>\n",
       "      <th>gruppenName</th>\n",
       "      <th>name</th>\n",
       "      <th>ort</th>\n",
       "    </tr>\n",
       "  </thead>\n",
       "  <tbody>\n",
       "    <tr>\n",
       "      <th>0</th>\n",
       "      <td>False</td>\n",
       "      <td>[Technisches Verst�ndnis und Kenntnisse in der...</td>\n",
       "      <td>NaN</td>\n",
       "      <td></td>\n",
       "      <td></td>\n",
       "    </tr>\n",
       "    <tr>\n",
       "      <th>1</th>\n",
       "      <td>False</td>\n",
       "      <td>Kultur im Cyberspace und jugendliche Lebenswel...</td>\n",
       "      <td>NaN</td>\n",
       "      <td></td>\n",
       "      <td></td>\n",
       "    </tr>\n",
       "    <tr>\n",
       "      <th>2</th>\n",
       "      <td>False</td>\n",
       "      <td>[Kommunikation mit Computern ist wundervoll ei...</td>\n",
       "      <td>NaN</td>\n",
       "      <td></td>\n",
       "      <td></td>\n",
       "    </tr>\n",
       "    <tr>\n",
       "      <th>3</th>\n",
       "      <td>False</td>\n",
       "      <td>Talklet (Vortrags- und Diskussionsabend) am Do...</td>\n",
       "      <td>NaN</td>\n",
       "      <td></td>\n",
       "      <td></td>\n",
       "    </tr>\n",
       "    <tr>\n",
       "      <th>4</th>\n",
       "      <td>False</td>\n",
       "      <td>[NOSQL, Big Data und Graphen sind zur Zeit in ...</td>\n",
       "      <td>NaN</td>\n",
       "      <td></td>\n",
       "      <td></td>\n",
       "    </tr>\n",
       "  </tbody>\n",
       "</table>\n",
       "</div>"
      ],
      "text/plain": [
       "   speichern                                               desc gruppenName  \\\n",
       "0      False  [Technisches Verst�ndnis und Kenntnisse in der...         NaN   \n",
       "1      False  Kultur im Cyberspace und jugendliche Lebenswel...         NaN   \n",
       "2      False  [Kommunikation mit Computern ist wundervoll ei...         NaN   \n",
       "3      False  Talklet (Vortrags- und Diskussionsabend) am Do...         NaN   \n",
       "4      False  [NOSQL, Big Data und Graphen sind zur Zeit in ...         NaN   \n",
       "\n",
       "  name ort  \n",
       "0           \n",
       "1           \n",
       "2           \n",
       "3           \n",
       "4           "
      ]
     },
     "execution_count": 808,
     "metadata": {},
     "output_type": "execute_result"
    }
   ],
   "source": [
    "imp_data_plain.head()"
   ]
  },
  {
   "cell_type": "markdown",
   "metadata": {},
   "source": [
    "# Datenset splitten"
   ]
  },
  {
   "cell_type": "code",
   "execution_count": 809,
   "metadata": {},
   "outputs": [],
   "source": [
    "X_all = imp_data_plain.drop('speichern', axis=1)\n",
    "Y_all = imp_data_plain[\"speichern\"]\n",
    "\n",
    "sss = StratifiedShuffleSplit(n_splits=1, test_size=0.2)\n",
    "\n",
    "for train_index, test_index in sss.split(X_all, Y_all):\n",
    "    X_train, X_test = X_all.iloc[train_index], X_all.iloc[test_index]\n",
    "    Y_train, Y_test = Y_all.iloc[train_index], Y_all.iloc[test_index]"
   ]
  },
  {
   "cell_type": "markdown",
   "metadata": {},
   "source": [
    "# Beschreibungen vectorisieren und Vokabular anlegen"
   ]
  },
  {
   "cell_type": "code",
   "execution_count": 810,
   "metadata": {},
   "outputs": [],
   "source": [
    "def isSubstantiv(x):\n",
    "    x3 = \"\"\n",
    "    xtemp = x.split(' ')\n",
    "    for i in xtemp:\n",
    "        if not i.islower() or i.isdigit() or i.isupper():\n",
    "                x3 = x3 + \" \" + i\n",
    "    return x3\n",
    "\n",
    "X_train_voc =  X_train['desc'].apply(lambda x : isSubstantiv(x))\n",
    "\n",
    "cv = TfidfVectorizer(token_pattern = '(?ui)\\\\b\\\\w*[a-z]\\\\w*[a-z]\\\\b',min_df=0.01, max_df = 0.75,max_features = 200)\n",
    "\n",
    "cv.fit(X_train_voc)\n",
    "X_train_cv = cv.transform(X_train['desc']).toarray()"
   ]
  },
  {
   "cell_type": "code",
   "execution_count": 811,
   "metadata": {
    "scrolled": false
   },
   "outputs": [
    {
     "data": {
      "text/plain": [
       "760"
      ]
     },
     "execution_count": 811,
     "metadata": {},
     "output_type": "execute_result"
    }
   ],
   "source": [
    "len(X_train_voc)"
   ]
  },
  {
   "cell_type": "code",
   "execution_count": 812,
   "metadata": {},
   "outputs": [
    {
     "data": {
      "text/plain": [
       "598     Talklet (Vortrags- Diskussionsabend) Donnerst...\n",
       "867     [Nach Versuchen JavaFX Nachfolger Java Swing ...\n",
       "269                                                  �� \n",
       "161                                   N�heres Anmeldung:\n",
       "735     [The Java But If Clean Code Luckily In REST A...\n",
       "389     In Vortrag Axel Fontaine Java Anwendungen Tag...\n",
       "80                                                  Mehr\n",
       "458     Sahaja Yoga Yogas, der�Selbstverwirklichung.�...\n",
       "327     Treffen Ruby Rails-Machern KA Umgebung.\\n\\nVo...\n",
       "273                                                     \n",
       "587     Diese Veranstaltung Vernetzung Industrieunter...\n",
       "213     Einblick Geschichte Zukunft AOP (Aspektorient...\n",
       "697     Stuttgart [See English Sei Jeden DIENSTAG 19 ...\n",
       "198     Agenda:\\n* Kennenlernen\\n* Scrum Action: Lars...\n",
       "25                                               Details\n",
       "924     [Die Welt Drei-Schicht-Architekturen - Zeiten...\n",
       "134                                               Infos:\n",
       "538     [2. Java Stammtisch Kaiserslautern Erweitert ...\n",
       "390     Veranstaltung Vortr�gen JUG Berlin-Brandenbur...\n",
       "61                                        Info Anmeldung\n",
       "36      https://secure.trifork.com/berlin-2013/freeev...\n",
       "444     The Equalizer 2014. Now Denzel Washington Rob...\n",
       "239     Donnerstag, 11. Februar 2010, 18.30 Uhr: \\nCo...\n",
       "628     Das 11. Java Forum Stuttgart (JFS) 3. Juli 20...\n",
       "228     Einladung Treffen SIG JBOSS\\nam 26. Juni 2008...\n",
       "359     Workshop am&nbsp;Samstag, 3. M�rz 2018, 09:00...\n",
       "726     Java Forum Stuttgart 2016\\n\\nEint�gigige Konf...\n",
       "826     [Eine Suchmaschine Aufgabe. Dieser Vortrag Ko...\n",
       "632     Einladung ObjektForum Stuttgart Montag, 22. S...\n",
       "947     Are AI We But Join August H�pfner If If Burgh...\n",
       "                             ...                        \n",
       "797     Kubernetes Frameworks Container-Orchestrierun...\n",
       "647     Einladung ObjektForum Stuttgart Montag, 02. M...\n",
       "93      Treffen\\nhttp://ka.stadtwiki.net/Stadtwiki:Tr...\n",
       "910     [In Vortrag Philosophie Ruby Rails Nach Blick...\n",
       "494     Die Deutsche Forschungsgemeinschaft 2001 - 20...\n",
       "387                                                     \n",
       "243     Montag, 14. Juni 2010, 18.30 Uhr: \\n\\nSpring ...\n",
       "413     Mobile Forum Stuttgart\\nhttp://jugs.de/mfs/\\n...\n",
       "803     Vortrag Rahmen Jahre Fakult�t Informatik&quot...\n",
       "406     Einladung ObjektForum Stuttgart Alten Scheuer...\n",
       "569     I Meet �Block To Transformer -Samuel Seiffert...\n",
       "927     Hey Tech Heads, Abend Natural Language Proces...\n",
       "23                                                  Mehr\n",
       "754     [Groovy Grails - Quo Juli 2015: Falk Sippach:...\n",
       "308             Welcome ! This Played You I To Mombasa. \n",
       "665     Einladung ObjektForum Stuttgart Montag, 20. M...\n",
       "342     Donnerstag, 1. September 2011, 18.30 Uhr\\n\\nR...\n",
       "463     Treffen AK Wissensmanagement\\n\\nVortr�ge  \\n*...\n",
       "15                                                      \n",
       "716     Einladung ObjektForum Stuttgart Montag, 26. N...\n",
       "686     Stuttgart [See English Sei Jeden DIENSTAG 19 ...\n",
       "547     Wir Azure IoT Edge-Plattform Edge-Ger�te Runt...\n",
       "476     Ort:\\nFZI Forschungszentrum Informatik\\nRaum ...\n",
       "357     Talklet (Vortrags- Diskussionsabend) Donnerst...\n",
       "531     Agile Nacht Stuttgart Montag, 12. Oktober 201...\n",
       "913     Jeden 4. Mittwoch Monat Web Content Managemen...\n",
       "933     [Der Bereich NoSQL-L�sungen Unternehmen Einsa...\n",
       "694     Hello Everybody! We As Campus Gardens Heidelb...\n",
       "678     ? KOSTENLOSES Outdoor Workout<br?? Variatione...\n",
       "884     Einladung 1. Treffen Androiden\\n\\nAndroid Han...\n",
       "Name: desc, Length: 760, dtype: object"
      ]
     },
     "execution_count": 812,
     "metadata": {},
     "output_type": "execute_result"
    }
   ],
   "source": [
    "X_train_voc"
   ]
  },
  {
   "cell_type": "code",
   "execution_count": 813,
   "metadata": {},
   "outputs": [
    {
     "data": {
      "text/plain": [
       "200"
      ]
     },
     "execution_count": 813,
     "metadata": {},
     "output_type": "execute_result"
    }
   ],
   "source": [
    "len(cv.get_feature_names())"
   ]
  },
  {
   "cell_type": "code",
   "execution_count": 814,
   "metadata": {},
   "outputs": [
    {
     "data": {
      "text/plain": [
       "['abend',\n",
       " 'aber',\n",
       " 'ag',\n",
       " 'agile',\n",
       " 'alle',\n",
       " 'am',\n",
       " 'amp',\n",
       " 'andrena',\n",
       " 'android',\n",
       " 'anforderungen',\n",
       " 'anmeldung',\n",
       " 'anwendung',\n",
       " 'anwendungen',\n",
       " 'apache',\n",
       " 'architektur',\n",
       " 'autor',\n",
       " 'bei',\n",
       " 'beispiel',\n",
       " 'bereich',\n",
       " 'br',\n",
       " 'business',\n",
       " 'che',\n",
       " 'class',\n",
       " 'cloud',\n",
       " 'co',\n",
       " 'code',\n",
       " 'com',\n",
       " 'consultant',\n",
       " 'dabei',\n",
       " 'das',\n",
       " 'data',\n",
       " 'de',\n",
       " 'der',\n",
       " 'design',\n",
       " 'deutschland',\n",
       " 'development',\n",
       " 'die',\n",
       " 'dieser',\n",
       " 'diskussionsabend',\n",
       " 'donnerstag',\n",
       " 'dr',\n",
       " 'du',\n",
       " 'eclipse',\n",
       " 'ee',\n",
       " 'ein',\n",
       " 'einf',\n",
       " 'einladung',\n",
       " 'einsatz',\n",
       " 'eintritt',\n",
       " 'enterprise',\n",
       " 'entwickler',\n",
       " 'entwicklung',\n",
       " 'er',\n",
       " 'erfahrungen',\n",
       " 'es',\n",
       " 'fasanengarten',\n",
       " 'features',\n",
       " 'fragen',\n",
       " 'framework',\n",
       " 'frameworks',\n",
       " 'ge',\n",
       " 'geb',\n",
       " 'gesch',\n",
       " 'git',\n",
       " 'glichkeiten',\n",
       " 'gmbh',\n",
       " 'google',\n",
       " 'gr',\n",
       " 'group',\n",
       " 'he',\n",
       " 'hochschule',\n",
       " 'href',\n",
       " 'hrung',\n",
       " 'html',\n",
       " 'http',\n",
       " 'https',\n",
       " 'im',\n",
       " 'in',\n",
       " 'info',\n",
       " 'informatik',\n",
       " 'informationen',\n",
       " 'infos',\n",
       " 'internet',\n",
       " 'it',\n",
       " 'jahre',\n",
       " 'jahren',\n",
       " 'java',\n",
       " 'jboss',\n",
       " 'jekyll',\n",
       " 'jpa',\n",
       " 'jugs',\n",
       " 'juni',\n",
       " 'ka',\n",
       " 'kaiserslautern',\n",
       " 'karlsruhe',\n",
       " 'kg',\n",
       " 'kit',\n",
       " 'konferenzen',\n",
       " 'kunden',\n",
       " 'mail',\n",
       " 'management',\n",
       " 'mannheim',\n",
       " 'meetup',\n",
       " 'mehr',\n",
       " 'meldet',\n",
       " 'menschen',\n",
       " 'michael',\n",
       " 'microservices',\n",
       " 'minuten',\n",
       " 'mit',\n",
       " 'montag',\n",
       " 'nach',\n",
       " 'nacht',\n",
       " 'net',\n",
       " 'neugierige',\n",
       " 'neulinge',\n",
       " 'objektforum',\n",
       " 'open',\n",
       " 'oracle',\n",
       " 'org',\n",
       " 'osgi',\n",
       " 'performance',\n",
       " 'planung',\n",
       " 'plattform',\n",
       " 'powered',\n",
       " 'praxis',\n",
       " 'probleme',\n",
       " 'prof',\n",
       " 'programmierung',\n",
       " 'project',\n",
       " 'projekt',\n",
       " 'projekte',\n",
       " 'projekten',\n",
       " 'qualit',\n",
       " 'rahmen',\n",
       " 'raum',\n",
       " 'referent',\n",
       " 'referenten',\n",
       " 'revision',\n",
       " 'rz',\n",
       " 'seit',\n",
       " 'september',\n",
       " 'server',\n",
       " 'sie',\n",
       " 'software',\n",
       " 'softwarearchitektur',\n",
       " 'softwareentwickler',\n",
       " 'softwareentwicklung',\n",
       " 'source',\n",
       " 'sprecher',\n",
       " 'spring',\n",
       " 'sql',\n",
       " 'stammtisch',\n",
       " 'stuttgart',\n",
       " 'stuttgarter',\n",
       " 'sungen',\n",
       " 'system',\n",
       " 'systeme',\n",
       " 'talklet',\n",
       " 'technologie',\n",
       " 'technologien',\n",
       " 'teil',\n",
       " 'teilnehmer',\n",
       " 'test',\n",
       " 'testen',\n",
       " 'tests',\n",
       " 'the',\n",
       " 'thema',\n",
       " 'themen',\n",
       " 'treffen',\n",
       " 'ude',\n",
       " 'ug',\n",
       " 'uhr',\n",
       " 'um',\n",
       " 'umfeld',\n",
       " 'und',\n",
       " 'universit',\n",
       " 'unternehmen',\n",
       " 'user',\n",
       " 'veranstalter',\n",
       " 'veranstaltung',\n",
       " 'veranstaltungen',\n",
       " 'veranstaltungseite',\n",
       " 'vortr',\n",
       " 'vortrag',\n",
       " 'vortrags',\n",
       " 'was',\n",
       " 'we',\n",
       " 'web',\n",
       " 'weitere',\n",
       " 'welt',\n",
       " 'wenn',\n",
       " 'werden',\n",
       " 'wie',\n",
       " 'wiki',\n",
       " 'wir',\n",
       " 'workshop',\n",
       " 'www',\n",
       " 'xing',\n",
       " 'zeit']"
      ]
     },
     "execution_count": 814,
     "metadata": {},
     "output_type": "execute_result"
    }
   ],
   "source": [
    "cv.get_feature_names()"
   ]
  },
  {
   "cell_type": "code",
   "execution_count": 815,
   "metadata": {},
   "outputs": [],
   "source": [
    "Y_train = Y_train.astype('int')"
   ]
  },
  {
   "cell_type": "code",
   "execution_count": 816,
   "metadata": {},
   "outputs": [],
   "source": [
    "Y_test = Y_test.astype('int')"
   ]
  },
  {
   "cell_type": "code",
   "execution_count": 817,
   "metadata": {},
   "outputs": [],
   "source": [
    "X_test_cv = cv.transform(X_test['desc'])"
   ]
  },
  {
   "cell_type": "code",
   "execution_count": 818,
   "metadata": {},
   "outputs": [],
   "source": [
    "def myEvaluation(y_pred):\n",
    "    print(classification_report(Y_test, y_pred, digits=4))\n",
    "    sns.heatmap(confusion_matrix(Y_test, y_pred), square=True, annot=True)\n",
    "    plt.show()"
   ]
  },
  {
   "cell_type": "markdown",
   "metadata": {},
   "source": [
    "# DecisionTree"
   ]
  },
  {
   "cell_type": "code",
   "execution_count": 819,
   "metadata": {},
   "outputs": [
    {
     "name": "stdout",
     "output_type": "stream",
     "text": [
      "             precision    recall  f1-score   support\n",
      "\n",
      "          0     0.9839    0.9946    0.9892       184\n",
      "          1     0.7500    0.5000    0.6000         6\n",
      "\n",
      "avg / total     0.9765    0.9789    0.9769       190\n",
      "\n"
     ]
    },
    {
     "data": {
      "image/png": "[encoded data removed]",
      "text/plain": [
       "<Figure size 432x288 with 2 Axes>"
      ]
     },
     "metadata": {},
     "output_type": "display_data"
    }
   ],
   "source": [
    "clf_tree = tree.DecisionTreeClassifier(max_depth=70)\n",
    "clf_tree.fit(X_train_cv, Y_train)\n",
    "y_pred_tree = clf_tree.predict(X_test_cv)\n",
    "myEvaluation(y_pred_tree)"
   ]
  },
  {
   "cell_type": "markdown",
   "metadata": {},
   "source": [
    "# DecisionTree + ROS"
   ]
  },
  {
   "cell_type": "code",
   "execution_count": 820,
   "metadata": {},
   "outputs": [
    {
     "name": "stdout",
     "output_type": "stream",
     "text": [
      "             precision    recall  f1-score   support\n",
      "\n",
      "          0     0.9733    0.9891    0.9811       184\n",
      "          1     0.3333    0.1667    0.2222         6\n",
      "\n",
      "avg / total     0.9531    0.9632    0.9572       190\n",
      "\n"
     ]
    },
    {
     "data": {
      "image/png": "[encoded data removed]",
      "text/plain": [
       "<Figure size 432x288 with 2 Axes>"
      ]
     },
     "metadata": {},
     "output_type": "display_data"
    }
   ],
   "source": [
    "ros = RandomOverSampler()\n",
    "X_ros_res, y_ros_res = ros.fit_sample(X_train_cv, Y_train)\n",
    "clf_tree = tree.DecisionTreeClassifier()\n",
    "clf_tree.fit(X_ros_res, y_ros_res)\n",
    "y_pred_tree = clf_tree.predict(X_test_cv)\n",
    "myEvaluation(y_pred_tree)"
   ]
  },
  {
   "cell_type": "markdown",
   "metadata": {},
   "source": [
    "# DecisionTree + SMOTE"
   ]
  },
  {
   "cell_type": "code",
   "execution_count": 821,
   "metadata": {},
   "outputs": [
    {
     "name": "stdout",
     "output_type": "stream",
     "text": [
      "             precision    recall  f1-score   support\n",
      "\n",
      "          0     0.9728    0.9728    0.9728       184\n",
      "          1     0.1667    0.1667    0.1667         6\n",
      "\n",
      "avg / total     0.9474    0.9474    0.9474       190\n",
      "\n"
     ]
    },
    {
     "data": {
      "image/png": "[encoded data removed]",
      "text/plain": [
       "<Figure size 432x288 with 2 Axes>"
      ]
     },
     "metadata": {},
     "output_type": "display_data"
    }
   ],
   "source": [
    "s = SMOTE()\n",
    "X_s_res, y_s_res = s.fit_sample(X_train_cv, Y_train)\n",
    "clf_tree = tree.DecisionTreeClassifier()\n",
    "clf_tree.fit(X_s_res, y_s_res)\n",
    "y_pred_tree = clf_tree.predict(X_test_cv)\n",
    "myEvaluation(y_pred_tree)"
   ]
  },
  {
   "cell_type": "markdown",
   "metadata": {},
   "source": [
    "# Decisiontree + ADASYN"
   ]
  },
  {
   "cell_type": "code",
   "execution_count": 822,
   "metadata": {},
   "outputs": [
    {
     "name": "stdout",
     "output_type": "stream",
     "text": [
      "             precision    recall  f1-score   support\n",
      "\n",
      "          0     0.9727    0.9674    0.9700       184\n",
      "          1     0.1429    0.1667    0.1538         6\n",
      "\n",
      "avg / total     0.9465    0.9421    0.9443       190\n",
      "\n"
     ]
    },
    {
     "data": {
      "image/png": "[encoded data removed]",
      "text/plain": [
       "<Figure size 432x288 with 2 Axes>"
      ]
     },
     "metadata": {},
     "output_type": "display_data"
    }
   ],
   "source": [
    "ada = ADASYN()\n",
    "X_ada_res, y_ada_res = ada.fit_sample(X_train_cv, Y_train)\n",
    "clf_tree = tree.DecisionTreeClassifier()\n",
    "clf_tree.fit(X_ada_res, y_ada_res)\n",
    "y_pred_tree = clf_tree.predict(X_test_cv)\n",
    "myEvaluation(y_pred_tree)"
   ]
  },
  {
   "cell_type": "markdown",
   "metadata": {},
   "source": [
    "# DecisionTree + RandomUnderSampler"
   ]
  },
  {
   "cell_type": "code",
   "execution_count": 823,
   "metadata": {},
   "outputs": [
    {
     "name": "stdout",
     "output_type": "stream",
     "text": [
      "             precision    recall  f1-score   support\n",
      "\n",
      "          0     0.9924    0.7065    0.8254       184\n",
      "          1     0.0847    0.8333    0.1538         6\n",
      "\n",
      "avg / total     0.9637    0.7105    0.8042       190\n",
      "\n"
     ]
    },
    {
     "data": {
      "image/png": "[encoded data removed]",
      "text/plain": [
       "<Figure size 432x288 with 2 Axes>"
      ]
     },
     "metadata": {},
     "output_type": "display_data"
    }
   ],
   "source": [
    "rus = RandomUnderSampler()\n",
    "X_rus_res, y_rus_res = rus.fit_sample(X_train_cv, Y_train)\n",
    "clf_tree = tree.DecisionTreeClassifier()\n",
    "clf_tree.fit(X_rus_res, y_rus_res)\n",
    "y_pred_tree = clf_tree.predict(X_test_cv)\n",
    "myEvaluation(y_pred_tree)"
   ]
  },
  {
   "cell_type": "markdown",
   "metadata": {},
   "source": [
    "# RandomForestTree"
   ]
  },
  {
   "cell_type": "code",
   "execution_count": 824,
   "metadata": {},
   "outputs": [
    {
     "name": "stdout",
     "output_type": "stream",
     "text": [
      "             precision    recall  f1-score   support\n",
      "\n",
      "          0     0.9684    1.0000    0.9840       184\n",
      "          1     0.0000    0.0000    0.0000         6\n",
      "\n",
      "avg / total     0.9378    0.9684    0.9529       190\n",
      "\n"
     ]
    },
    {
     "name": "stderr",
     "output_type": "stream",
     "text": [
      "/opt/conda/lib/python3.6/site-packages/sklearn/metrics/classification.py:1135: UndefinedMetricWarning: Precision and F-score are ill-defined and being set to 0.0 in labels with no predicted samples.\n",
      "  'precision', 'predicted', average, warn_for)\n"
     ]
    },
    {
     "data": {
      "image/png": "[encoded data removed]",
      "text/plain": [
       "<Figure size 432x288 with 2 Axes>"
      ]
     },
     "metadata": {},
     "output_type": "display_data"
    }
   ],
   "source": [
    "clf_rdm_tree = RandomForestClassifier(n_estimators=75, max_depth=50)\n",
    "clf_rdm_tree.fit(X_train_cv, Y_train)\n",
    "y_pred_rdmForest = clf_rdm_tree.predict(X_test_cv)\n",
    "myEvaluation(y_pred_rdmForest)"
   ]
  },
  {
   "cell_type": "markdown",
   "metadata": {},
   "source": [
    "# AdaBoostTree"
   ]
  },
  {
   "cell_type": "code",
   "execution_count": 825,
   "metadata": {},
   "outputs": [
    {
     "name": "stdout",
     "output_type": "stream",
     "text": [
      "             precision    recall  f1-score   support\n",
      "\n",
      "          0     0.9786    0.9946    0.9865       184\n",
      "          1     0.6667    0.3333    0.4444         6\n",
      "\n",
      "avg / total     0.9688    0.9737    0.9694       190\n",
      "\n"
     ]
    },
    {
     "data": {
      "image/png": "[encoded data removed]",
      "text/plain": [
       "<Figure size 432x288 with 2 Axes>"
      ]
     },
     "metadata": {},
     "output_type": "display_data"
    }
   ],
   "source": [
    "clf_adaBoost_tree = AdaBoostClassifier(tree.DecisionTreeClassifier(max_depth=25),\n",
    "                         algorithm=\"SAMME\",\n",
    "                         n_estimators=75)\n",
    "\n",
    "clf_adaBoost_tree.fit(X_train_cv, Y_train)\n",
    "y_pred_adaBoost = clf_adaBoost_tree.predict(X_test_cv)\n",
    "myEvaluation(y_pred_adaBoost)"
   ]
  },
  {
   "cell_type": "markdown",
   "metadata": {},
   "source": [
    "# GradientBoostingTree"
   ]
  },
  {
   "cell_type": "code",
   "execution_count": 826,
   "metadata": {},
   "outputs": [
    {
     "name": "stdout",
     "output_type": "stream",
     "text": [
      "             precision    recall  f1-score   support\n",
      "\n",
      "          0     0.9839    0.9946    0.9892       184\n",
      "          1     0.7500    0.5000    0.6000         6\n",
      "\n",
      "avg / total     0.9765    0.9789    0.9769       190\n",
      "\n"
     ]
    },
    {
     "data": {
      "image/png": "[encoded data removed]",
      "text/plain": [
       "<Figure size 432x288 with 2 Axes>"
      ]
     },
     "metadata": {},
     "output_type": "display_data"
    }
   ],
   "source": [
    "clf_gradBoost_tree = GradientBoostingClassifier(n_estimators=250, learning_rate=0.1, max_depth=75)\n",
    "clf_gradBoost_tree.fit(X_train_cv, Y_train)\n",
    "y_pred_gradBoost = clf_gradBoost_tree.predict(X_test_cv)\n",
    "myEvaluation(y_pred_gradBoost)"
   ]
  },
  {
   "cell_type": "code",
   "execution_count": 827,
   "metadata": {},
   "outputs": [
    {
     "name": "stdout",
     "output_type": "stream",
     "text": [
      "             precision    recall  f1-score   support\n",
      "\n",
      "          0     0.9786    0.9946    0.9865       184\n",
      "          1     0.6667    0.3333    0.4444         6\n",
      "\n",
      "avg / total     0.9688    0.9737    0.9694       190\n",
      "\n"
     ]
    },
    {
     "data": {
      "image/png": "[encoded data removed]",
      "text/plain": [
       "<Figure size 432x288 with 2 Axes>"
      ]
     },
     "metadata": {},
     "output_type": "display_data"
    }
   ],
   "source": [
    "clf_gradBoost_tree = GradientBoostingClassifier(n_estimators=75, learning_rate=0.1, max_depth=50)\n",
    "clf_gradBoost_tree.fit(X_train_cv, Y_train)\n",
    "y_pred_gradBoost = clf_gradBoost_tree.predict(X_test_cv)\n",
    "myEvaluation(y_pred_gradBoost)"
   ]
  },
  {
   "cell_type": "code",
   "execution_count": 828,
   "metadata": {},
   "outputs": [
    {
     "name": "stdout",
     "output_type": "stream",
     "text": [
      "             precision    recall  f1-score   support\n",
      "\n",
      "          0     0.9786    0.9946    0.9865       184\n",
      "          1     0.6667    0.3333    0.4444         6\n",
      "\n",
      "avg / total     0.9688    0.9737    0.9694       190\n",
      "\n"
     ]
    },
    {
     "data": {
      "image/png": "[encoded data removed]",
      "text/plain": [
       "<Figure size 432x288 with 2 Axes>"
      ]
     },
     "metadata": {},
     "output_type": "display_data"
    }
   ],
   "source": [
    "clf_gradBoost_tree = GradientBoostingClassifier(n_estimators=100, learning_rate=0.1, max_depth=50)\n",
    "clf_gradBoost_tree.fit(X_train_cv, Y_train)\n",
    "y_pred_gradBoost = clf_gradBoost_tree.predict(X_test_cv)\n",
    "myEvaluation(y_pred_gradBoost)"
   ]
  },
  {
   "cell_type": "code",
   "execution_count": 829,
   "metadata": {},
   "outputs": [
    {
     "name": "stdout",
     "output_type": "stream",
     "text": [
      "             precision    recall  f1-score   support\n",
      "\n",
      "          0     0.9786    0.9946    0.9865       184\n",
      "          1     0.6667    0.3333    0.4444         6\n",
      "\n",
      "avg / total     0.9688    0.9737    0.9694       190\n",
      "\n"
     ]
    },
    {
     "data": {
      "image/png": "[encoded data removed]",
      "text/plain": [
       "<Figure size 432x288 with 2 Axes>"
      ]
     },
     "metadata": {},
     "output_type": "display_data"
    }
   ],
   "source": [
    "clf_gradBoost_tree = GradientBoostingClassifier(n_estimators=50, learning_rate=0.1, max_depth=75)\n",
    "clf_gradBoost_tree.fit(X_train_cv, Y_train)\n",
    "y_pred_gradBoost = clf_gradBoost_tree.predict(X_test_cv)\n",
    "myEvaluation(y_pred_gradBoost)"
   ]
  },
  {
   "cell_type": "code",
   "execution_count": 830,
   "metadata": {},
   "outputs": [
    {
     "name": "stdout",
     "output_type": "stream",
     "text": [
      "             precision    recall  f1-score   support\n",
      "\n",
      "          0     0.9839    0.9946    0.9892       184\n",
      "          1     0.7500    0.5000    0.6000         6\n",
      "\n",
      "avg / total     0.9765    0.9789    0.9769       190\n",
      "\n"
     ]
    },
    {
     "data": {
      "image/png": "[encoded data removed]",
      "text/plain": [
       "<Figure size 432x288 with 2 Axes>"
      ]
     },
     "metadata": {},
     "output_type": "display_data"
    }
   ],
   "source": [
    "clf_gradBoost_tree = GradientBoostingClassifier(n_estimators=50, learning_rate=0.1, max_depth=100)\n",
    "clf_gradBoost_tree.fit(X_train_cv, Y_train)\n",
    "y_pred_gradBoost = clf_gradBoost_tree.predict(X_test_cv)\n",
    "myEvaluation(y_pred_gradBoost)"
   ]
  },
  {
   "cell_type": "code",
   "execution_count": 831,
   "metadata": {},
   "outputs": [
    {
     "name": "stdout",
     "output_type": "stream",
     "text": [
      "             precision    recall  f1-score   support\n",
      "\n",
      "          0     0.9839    0.9946    0.9892       184\n",
      "          1     0.7500    0.5000    0.6000         6\n",
      "\n",
      "avg / total     0.9765    0.9789    0.9769       190\n",
      "\n"
     ]
    },
    {
     "data": {
      "image/png": "[encoded data removed]",
      "text/plain": [
       "<Figure size 432x288 with 2 Axes>"
      ]
     },
     "metadata": {},
     "output_type": "display_data"
    }
   ],
   "source": [
    "clf_gradBoost_tree = GradientBoostingClassifier(n_estimators=100, learning_rate=0.1, max_depth=40)\n",
    "clf_gradBoost_tree.fit(X_train_cv, Y_train)\n",
    "y_pred_gradBoost = clf_gradBoost_tree.predict(X_test_cv)\n",
    "myEvaluation(y_pred_gradBoost)"
   ]
  },
  {
   "cell_type": "code",
   "execution_count": 832,
   "metadata": {},
   "outputs": [
    {
     "name": "stdout",
     "output_type": "stream",
     "text": [
      "             precision    recall  f1-score   support\n",
      "\n",
      "          0     0.9839    0.9946    0.9892       184\n",
      "          1     0.7500    0.5000    0.6000         6\n",
      "\n",
      "avg / total     0.9765    0.9789    0.9769       190\n",
      "\n"
     ]
    },
    {
     "data": {
      "image/png": "[encoded data removed]",
      "text/plain": [
       "<Figure size 432x288 with 2 Axes>"
      ]
     },
     "metadata": {},
     "output_type": "display_data"
    }
   ],
   "source": [
    "clf_gradBoost_tree = GradientBoostingClassifier(n_estimators=100, learning_rate=0.1, max_depth=30)\n",
    "clf_gradBoost_tree.fit(X_train_cv, Y_train)\n",
    "y_pred_gradBoost = clf_gradBoost_tree.predict(X_test_cv)\n",
    "myEvaluation(y_pred_gradBoost)"
   ]
  },
  {
   "cell_type": "code",
   "execution_count": 833,
   "metadata": {},
   "outputs": [
    {
     "name": "stdout",
     "output_type": "stream",
     "text": [
      "             precision    recall  f1-score   support\n",
      "\n",
      "          0     0.9786    0.9946    0.9865       184\n",
      "          1     0.6667    0.3333    0.4444         6\n",
      "\n",
      "avg / total     0.9688    0.9737    0.9694       190\n",
      "\n"
     ]
    },
    {
     "data": {
      "image/png": "[encoded data removed]",
      "text/plain": [
       "<Figure size 432x288 with 2 Axes>"
      ]
     },
     "metadata": {},
     "output_type": "display_data"
    }
   ],
   "source": [
    "clf_gradBoost_tree = GradientBoostingClassifier(n_estimators=100, learning_rate=0.1, max_depth=20)\n",
    "clf_gradBoost_tree.fit(X_train_cv, Y_train)\n",
    "y_pred_gradBoost = clf_gradBoost_tree.predict(X_test_cv)\n",
    "myEvaluation(y_pred_gradBoost)"
   ]
  },
  {
   "cell_type": "markdown",
   "metadata": {},
   "source": [
    "# GradientBoostingTree + ROS"
   ]
  },
  {
   "cell_type": "code",
   "execution_count": 834,
   "metadata": {},
   "outputs": [
    {
     "name": "stdout",
     "output_type": "stream",
     "text": [
      "             precision    recall  f1-score   support\n",
      "\n",
      "          0     1.0000    0.6848    0.8129       184\n",
      "          1     0.0938    1.0000    0.1714         6\n",
      "\n",
      "avg / total     0.9714    0.6947    0.7926       190\n",
      "\n"
     ]
    },
    {
     "data": {
      "image/png": "[encoded data removed]",
      "text/plain": [
       "<Figure size 432x288 with 2 Axes>"
      ]
     },
     "metadata": {},
     "output_type": "display_data"
    }
   ],
   "source": [
    "ros = RandomOverSampler()\n",
    "X_ros_res, y_ros_res = ros.fit_sample(X_train_cv, Y_train)\n",
    "clf_gradBoost_tree = GradientBoostingClassifier(n_estimators=75, learning_rate=0.1, max_depth=50)\n",
    "clf_gradBoost_tree.fit(X_rus_res, y_rus_res)\n",
    "y_pred_gradBoost = clf_gradBoost_tree.predict(X_test_cv)\n",
    "myEvaluation(y_pred_gradBoost)"
   ]
  },
  {
   "cell_type": "markdown",
   "metadata": {},
   "source": [
    "# GradientBoostingTree + RUS"
   ]
  },
  {
   "cell_type": "code",
   "execution_count": 835,
   "metadata": {},
   "outputs": [
    {
     "name": "stdout",
     "output_type": "stream",
     "text": [
      "             precision    recall  f1-score   support\n",
      "\n",
      "          0     0.9823    0.6033    0.7475       184\n",
      "          1     0.0519    0.6667    0.0964         6\n",
      "\n",
      "avg / total     0.9529    0.6053    0.7269       190\n",
      "\n"
     ]
    },
    {
     "data": {
      "image/png": "[encoded data removed]",
      "text/plain": [
       "<Figure size 432x288 with 2 Axes>"
      ]
     },
     "metadata": {},
     "output_type": "display_data"
    }
   ],
   "source": [
    "rus = RandomUnderSampler()\n",
    "X_rus_res, y_rus_res = rus.fit_sample(X_train_cv, Y_train)\n",
    "clf_gradBoost_tree = GradientBoostingClassifier(n_estimators=75, learning_rate=0.1, max_depth=30)\n",
    "clf_gradBoost_tree.fit(X_rus_res, y_rus_res)\n",
    "y_pred_gradBoost = clf_gradBoost_tree.predict(X_test_cv)\n",
    "myEvaluation(y_pred_gradBoost)"
   ]
  },
  {
   "cell_type": "code",
   "execution_count": null,
   "metadata": {},
   "outputs": [],
   "source": []
  },
  {
   "cell_type": "code",
   "execution_count": null,
   "metadata": {},
   "outputs": [],
   "source": []
  },
  {
   "cell_type": "code",
   "execution_count": null,
   "metadata": {},
   "outputs": [],
   "source": []
  }
 ],
 "metadata": {
  "kernelspec": {
   "display_name": "Python 3",
   "language": "python",
   "name": "python3"
  },
  "language_info": {
   "codemirror_mode": {
    "name": "ipython",
    "version": 3
   },
   "file_extension": ".py",
   "mimetype": "text/x-python",
   "name": "python",
   "nbconvert_exporter": "python",
   "pygments_lexer": "ipython3",
   "version": "3.6.6"
  }
 },
 "nbformat": 4,
 "nbformat_minor": 2
}
